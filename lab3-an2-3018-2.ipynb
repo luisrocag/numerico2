{
 "cells": [
  {
   "cell_type": "markdown",
   "metadata": {},
   "source": [
    "# Integración Numérica\n",
    "## Perímetro de la elipse usando regla del trapecio"
   ]
  },
  {
   "cell_type": "code",
   "execution_count": 1,
   "metadata": {},
   "outputs": [
    {
     "name": "stdout",
     "output_type": "stream",
     "text": [
      "I=  6.28319\n",
      "I=  6.28319\n",
      "I=  7.63564\n",
      "I=  7.58448\n",
      "I=  7.64033\n",
      "I=  7.63564\n",
      "I=  7.64039\n",
      "I=  7.63989\n",
      "I=  7.64040\n",
      "I=  7.64033\n"
     ]
    }
   ],
   "source": [
    "% Integral desde x=a hasta x=b de f\n",
    "% tamaño de la particion\n",
    "a = 0;\n",
    "b = 2*pi;\n",
    "for n = 1:10\n",
    "  x = linspace(a,b,n+1);\n",
    "  fx = sqrt(1+sin(x).^2);\n",
    "% Pesos de la regla del trapecio\n",
    "  A = [1 2*ones([1,n-1]) 1];\n",
    "  h = (b-a)/n;\n",
    "  I = dot(A,fx)*(h/2);\n",
    "  printf(\"I=%9.5f\\n\",I);\n",
    "end"
   ]
  },
  {
   "cell_type": "markdown",
   "metadata": {},
   "source": [
    "## Perímetro de la elipse usando regla de Simpson"
   ]
  },
  {
   "cell_type": "code",
   "execution_count": 9,
   "metadata": {},
   "outputs": [
    {
     "name": "stdout",
     "output_type": "stream",
     "text": [
      "I=  6.28319\n",
      "I=  8.01824\n",
      "I=  7.63564\n",
      "I=  7.65836\n",
      "I=  7.64033\n"
     ]
    }
   ],
   "source": [
    "% Integral desde x=a hasta x=b de f\n",
    "% tamaño de la particion\n",
    "a = 0;\n",
    "b = 2*pi;\n",
    "for n = 2:2:10\n",
    "  x = linspace(a,b,n+1);\n",
    "  fx = sqrt(1+sin(x).^2);\n",
    "% Pesos de la regla de simpson\n",
    "  A = ones([1,n+1]);\n",
    "  A(2:2:n)=4;\n",
    "  A(3:2:n-1)=2;  \n",
    "  h = (b-a)/n;\n",
    "  I = dot(A,fx)*(h/3);\n",
    "  printf(\"I=%9.5f\\n\",I);\n",
    "end"
   ]
  },
  {
   "cell_type": "markdown",
   "metadata": {},
   "source": [
    "# Cuadratura gaussiana"
   ]
  },
  {
   "cell_type": "code",
   "execution_count": 6,
   "metadata": {},
   "outputs": [],
   "source": [
    "function I=int_quad(f,a,b,n,npuntos)\n",
    "function [L,w]=cuadratura_intervalo(npuntos)\n",
    "  if npuntos==1\n",
    "    x=[0];     \n",
    "    w=[2];\n",
    "  elseif npuntos==2\n",
    "    x=[-sqrt(3),sqrt(3)]; \n",
    "    w=[1,1];\n",
    "  elseif npuntos==3    \n",
    "    x=[-sqrt(3/5),0, sqrt(3/5)]; \n",
    "    w=[5/9,8/9,5/9];\n",
    "  elseif npuntos==5    \n",
    "    x=[-sqrt(5+2*sqrt(10/7))/3,-sqrt(5-2*sqrt(10/7))/3,...\n",
    "    0, -sqrt(5-2*sqrt(10/7))/3,sqrt(5+2*sqrt(10/7))/3]; \n",
    "    w=[(322+13*sqrt(70))/900,(322-13*sqrt(70))/900,...\n",
    "    128/225,...\n",
    "    (322-13*sqrt(70))/900,(322+13*sqrt(70))/900];           \n",
    "  end\n",
    "  x=(x+1)/2;\n",
    "  L=[x' 1-x'];\n",
    "  w=0.5*w';\n",
    "end\n",
    "function V=LONG_MALLA(X)\n",
    "  V=X(2,:)-X(1,:);\n",
    "end\n",
    "function X=particion(a,b,n)\n",
    "  T=linspace(a,b,n);\n",
    "  X=[T(1:n-1);T(2:n)];\n",
    "end\n",
    "X=particion(a,b,n);\n",
    "V=LONG_MALLA(X);\n",
    "[L,w]=cuadratura_intervalo(npuntos);\n",
    "XQ=L*X;\n",
    "F=f(XQ);\n",
    "I=w'*F*V';\n",
    "end"
   ]
  },
  {
   "cell_type": "markdown",
   "metadata": {},
   "source": [
    "## Perímetro de la elipse usando cuadratura gaussiana"
   ]
  },
  {
   "cell_type": "code",
   "execution_count": 7,
   "metadata": {},
   "outputs": [
    {
     "name": "stdout",
     "output_type": "stream",
     "text": [
      "Perimetro de elipse I=  7.64374\n"
     ]
    }
   ],
   "source": [
    "a = 0;\n",
    "b = 2*pi;\n",
    "n=3;\n",
    "npuntos=3;\n",
    "f=@(X) sqrt(1+sin(X).^2);\n",
    "I=int_quad(f,a,b,n,npuntos);\n",
    "printf(\"Perimetro de elipse I=%9.5f\\n\",I);"
   ]
  },
  {
   "cell_type": "markdown",
   "metadata": {},
   "source": [
    "## Método de Romberg"
   ]
  },
  {
   "cell_type": "code",
   "execution_count": 8,
   "metadata": {},
   "outputs": [],
   "source": [
    "function [R,quad,err,h]=romber(f,a,b,n,tol)\n",
    "M=1;\n",
    "h=b-a;\n",
    "err=1;\n",
    "J=0;\n",
    "R=zeros(4,4);\n",
    "R(1,1)=h*(f(a)+f(b))/2;\n",
    "while((err>tol)&(J<n))|(J<4)\n",
    "   J=J+1;\n",
    "   h=h/2;\n",
    "   s=0;\n",
    "   for p=1:M\n",
    "      x=a+h*(2*p-1);\n",
    "      s=s+f(x);\n",
    "   end\n",
    "   R(J+1,1)=R(J,1)/2+h*s;\n",
    "   M=2*M;\n",
    "   for K=1:J\n",
    "      R(J+1,K+1)=R(J+1,K)+(R(J+1,K)-R(J,K))/(4^K-1);\n",
    "   end\n",
    "   err=abs(R(J,J)-R(J+1,K+1));\n",
    "end\n",
    "quad=R(J+1,J+1);\n",
    "end"
   ]
  },
  {
   "cell_type": "code",
   "execution_count": null,
   "metadata": {},
   "outputs": [],
   "source": []
  }
 ],
 "metadata": {
  "kernelspec": {
   "display_name": "Octave",
   "language": "octave",
   "name": "octave"
  },
  "language_info": {
   "file_extension": ".m",
   "help_links": [
    {
     "text": "GNU Octave",
     "url": "https://www.gnu.org/software/octave/support.html"
    },
    {
     "text": "Octave Kernel",
     "url": "https://github.com/Calysto/octave_kernel"
    },
    {
     "text": "MetaKernel Magics",
     "url": "https://github.com/calysto/metakernel/blob/master/metakernel/magics/README.md"
    }
   ],
   "mimetype": "text/x-octave",
   "name": "octave",
   "version": "4.2.2"
  }
 },
 "nbformat": 4,
 "nbformat_minor": 2
}
